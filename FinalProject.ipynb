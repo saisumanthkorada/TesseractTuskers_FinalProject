{
  "nbformat": 4,
  "nbformat_minor": 0,
  "metadata": {
    "colab": {
      "provenance": [],
      "authorship_tag": "ABX9TyNyE6CnBhYhdig7Vx/Sl70+",
      "include_colab_link": true
    },
    "kernelspec": {
      "name": "python3",
      "display_name": "Python 3"
    },
    "language_info": {
      "name": "python"
    }
  },
  "cells": [
    {
      "cell_type": "markdown",
      "metadata": {
        "id": "view-in-github",
        "colab_type": "text"
      },
      "source": [
        "<a href=\"https://colab.research.google.com/github/saisumanthkorada/TesseractTuskers_FinalProject/blob/main/FinalProject.ipynb\" target=\"_parent\"><img src=\"https://colab.research.google.com/assets/colab-badge.svg\" alt=\"Open In Colab\"/></a>"
      ]
    },
    {
      "cell_type": "code",
      "execution_count": null,
      "metadata": {
        "id": "RQXE8KM2Ks53"
      },
      "outputs": [],
      "source": [
        "text = \"\"\"Artificial Intelligence (AI) refers to the simulation of human intelligence in machines designed to think and act like humans. It involves creating intelligent agents capable of performing tasks such as learning, reasoning, problem-solving, perception, and language understanding.\n",
        "\n",
        "AI systems are classified into narrow AI, which is task-specific, and general AI, which can perform any intellectual task a human can do. Examples of narrow AI include virtual assistants like Siri and Alexa, recommendation systems used by Netflix, and autonomous vehicles.\n",
        "\n",
        "Machine learning, a subset of AI, enables systems to learn and improve from experience using algorithms to analyze data, identify patterns, and make decisions. Deep learning, using neural networks with many layers, mimics human brain function.\n",
        "\n",
        "AI has applications across industries: healthcare uses AI for predictive analytics and medical imaging; finance employs it for fraud detection and algorithmic trading; manufacturing uses it for predictive maintenance and quality control.\n",
        "\n",
        "AI poses challenges and ethical concerns, including job displacement due to automation, biases in AI systems, and the need for transparency in AI decision-making. Ensuring data privacy and security is critical.\n",
        "\n",
        "Advancing AI research focuses on improving learning algorithms, enhancing human-machine interaction, and developing more explainable AI systems. The future of AI promises innovations that could significantly impact society and the economy.\n",
        "\n",
        "Ethical AI development requires collaboration between technologists, ethicists, policymakers, and the public to address concerns and harness AI's potential for societal good. By balancing innovation with ethical considerations, AI can be developed to benefit humanity as a whole.\"\"\""
      ]
    },
    {
      "cell_type": "code",
      "source": [
        "import spacy\n",
        "from spacy.lang.en.stop_words import STOP_WORDS\n",
        "from string import punctuation"
      ],
      "metadata": {
        "id": "qF3emwrjLqAV"
      },
      "execution_count": null,
      "outputs": []
    },
    {
      "cell_type": "code",
      "source": [
        "nlp = spacy.load(\"en_core_web_sm\")"
      ],
      "metadata": {
        "id": "0if22AG1L6Ho"
      },
      "execution_count": null,
      "outputs": []
    },
    {
      "cell_type": "code",
      "source": [
        "doc = nlp(text)\n"
      ],
      "metadata": {
        "id": "ovg6uoibM8ZC"
      },
      "execution_count": null,
      "outputs": []
    },
    {
      "cell_type": "code",
      "source": [
        "tokens = [token.text for token in doc]\n",
        "print(tokens)"
      ],
      "metadata": {
        "colab": {
          "base_uri": "https://localhost:8080/"
        },
        "id": "0fVpRH1_NBfB",
        "outputId": "0f06a1f2-fabf-4c3c-832a-954ca1a45ad9"
      },
      "execution_count": null,
      "outputs": [
        {
          "output_type": "stream",
          "name": "stdout",
          "text": [
            "['Artificial', 'Intelligence', '(', 'AI', ')', 'refers', 'to', 'the', 'simulation', 'of', 'human', 'intelligence', 'in', 'machines', 'designed', 'to', 'think', 'and', 'act', 'like', 'humans', '.', 'It', 'involves', 'creating', 'intelligent', 'agents', 'capable', 'of', 'performing', 'tasks', 'such', 'as', 'learning', ',', 'reasoning', ',', 'problem', '-', 'solving', ',', 'perception', ',', 'and', 'language', 'understanding', '.', '\\n\\n', 'AI', 'systems', 'are', 'classified', 'into', 'narrow', 'AI', ',', 'which', 'is', 'task', '-', 'specific', ',', 'and', 'general', 'AI', ',', 'which', 'can', 'perform', 'any', 'intellectual', 'task', 'a', 'human', 'can', 'do', '.', 'Examples', 'of', 'narrow', 'AI', 'include', 'virtual', 'assistants', 'like', 'Siri', 'and', 'Alexa', ',', 'recommendation', 'systems', 'used', 'by', 'Netflix', ',', 'and', 'autonomous', 'vehicles', '.', '\\n\\n', 'Machine', 'learning', ',', 'a', 'subset', 'of', 'AI', ',', 'enables', 'systems', 'to', 'learn', 'and', 'improve', 'from', 'experience', 'using', 'algorithms', 'to', 'analyze', 'data', ',', 'identify', 'patterns', ',', 'and', 'make', 'decisions', '.', 'Deep', 'learning', ',', 'using', 'neural', 'networks', 'with', 'many', 'layers', ',', 'mimics', 'human', 'brain', 'function', '.', '\\n\\n', 'AI', 'has', 'applications', 'across', 'industries', ':', 'healthcare', 'uses', 'AI', 'for', 'predictive', 'analytics', 'and', 'medical', 'imaging', ';', 'finance', 'employs', 'it', 'for', 'fraud', 'detection', 'and', 'algorithmic', 'trading', ';', 'manufacturing', 'uses', 'it', 'for', 'predictive', 'maintenance', 'and', 'quality', 'control', '.', '\\n\\n', 'AI', 'poses', 'challenges', 'and', 'ethical', 'concerns', ',', 'including', 'job', 'displacement', 'due', 'to', 'automation', ',', 'biases', 'in', 'AI', 'systems', ',', 'and', 'the', 'need', 'for', 'transparency', 'in', 'AI', 'decision', '-', 'making', '.', 'Ensuring', 'data', 'privacy', 'and', 'security', 'is', 'critical', '.', '\\n\\n', 'Advancing', 'AI', 'research', 'focuses', 'on', 'improving', 'learning', 'algorithms', ',', 'enhancing', 'human', '-', 'machine', 'interaction', ',', 'and', 'developing', 'more', 'explainable', 'AI', 'systems', '.', 'The', 'future', 'of', 'AI', 'promises', 'innovations', 'that', 'could', 'significantly', 'impact', 'society', 'and', 'the', 'economy', '.', '\\n\\n', 'Ethical', 'AI', 'development', 'requires', 'collaboration', 'between', 'technologists', ',', 'ethicists', ',', 'policymakers', ',', 'and', 'the', 'public', 'to', 'address', 'concerns', 'and', 'harness', 'AI', \"'s\", 'potential', 'for', 'societal', 'good', '.', 'By', 'balancing', 'innovation', 'with', 'ethical', 'considerations', ',', 'AI', 'can', 'be', 'developed', 'to', 'benefit', 'humanity', 'as', 'a', 'whole', '.']\n"
          ]
        }
      ]
    },
    {
      "cell_type": "code",
      "source": [
        "filtered_tokens = [token.text.lower() for token in doc if not token.is_stop and not token.is_punct]\n",
        "print(\"Filtered Tokens:\", filtered_tokens)\n"
      ],
      "metadata": {
        "colab": {
          "base_uri": "https://localhost:8080/"
        },
        "id": "oAS4rqPlNf15",
        "outputId": "2999d304-35e6-4b2b-cebc-6cbc0b3f3d2e"
      },
      "execution_count": null,
      "outputs": [
        {
          "output_type": "stream",
          "name": "stdout",
          "text": [
            "Filtered Tokens: ['artificial', 'intelligence', 'ai', 'refers', 'simulation', 'human', 'intelligence', 'machines', 'designed', 'think', 'act', 'like', 'humans', 'involves', 'creating', 'intelligent', 'agents', 'capable', 'performing', 'tasks', 'learning', 'reasoning', 'problem', 'solving', 'perception', 'language', 'understanding', '\\n\\n', 'ai', 'systems', 'classified', 'narrow', 'ai', 'task', 'specific', 'general', 'ai', 'perform', 'intellectual', 'task', 'human', 'examples', 'narrow', 'ai', 'include', 'virtual', 'assistants', 'like', 'siri', 'alexa', 'recommendation', 'systems', 'netflix', 'autonomous', 'vehicles', '\\n\\n', 'machine', 'learning', 'subset', 'ai', 'enables', 'systems', 'learn', 'improve', 'experience', 'algorithms', 'analyze', 'data', 'identify', 'patterns', 'decisions', 'deep', 'learning', 'neural', 'networks', 'layers', 'mimics', 'human', 'brain', 'function', '\\n\\n', 'ai', 'applications', 'industries', 'healthcare', 'uses', 'ai', 'predictive', 'analytics', 'medical', 'imaging', 'finance', 'employs', 'fraud', 'detection', 'algorithmic', 'trading', 'manufacturing', 'uses', 'predictive', 'maintenance', 'quality', 'control', '\\n\\n', 'ai', 'poses', 'challenges', 'ethical', 'concerns', 'including', 'job', 'displacement', 'automation', 'biases', 'ai', 'systems', 'need', 'transparency', 'ai', 'decision', 'making', 'ensuring', 'data', 'privacy', 'security', 'critical', '\\n\\n', 'advancing', 'ai', 'research', 'focuses', 'improving', 'learning', 'algorithms', 'enhancing', 'human', 'machine', 'interaction', 'developing', 'explainable', 'ai', 'systems', 'future', 'ai', 'promises', 'innovations', 'significantly', 'impact', 'society', 'economy', '\\n\\n', 'ethical', 'ai', 'development', 'requires', 'collaboration', 'technologists', 'ethicists', 'policymakers', 'public', 'address', 'concerns', 'harness', 'ai', 'potential', 'societal', 'good', 'balancing', 'innovation', 'ethical', 'considerations', 'ai', 'developed', 'benefit', 'humanity']\n"
          ]
        }
      ]
    },
    {
      "cell_type": "code",
      "source": [
        "from collections import Counter\n",
        "word_freq = Counter(filtered_tokens)"
      ],
      "metadata": {
        "id": "BPqPcQpSO2x9"
      },
      "execution_count": null,
      "outputs": []
    },
    {
      "cell_type": "code",
      "source": [
        "word_freq"
      ],
      "metadata": {
        "colab": {
          "base_uri": "https://localhost:8080/"
        },
        "id": "utRw27vUO7Dw",
        "outputId": "42d2190b-60da-4083-9e0a-50c969af9bc9"
      },
      "execution_count": null,
      "outputs": [
        {
          "output_type": "execute_result",
          "data": {
            "text/plain": [
              "Counter({'artificial': 1,\n",
              "         'intelligence': 2,\n",
              "         'ai': 17,\n",
              "         'refers': 1,\n",
              "         'simulation': 1,\n",
              "         'human': 4,\n",
              "         'machines': 1,\n",
              "         'designed': 1,\n",
              "         'think': 1,\n",
              "         'act': 1,\n",
              "         'like': 2,\n",
              "         'humans': 1,\n",
              "         'involves': 1,\n",
              "         'creating': 1,\n",
              "         'intelligent': 1,\n",
              "         'agents': 1,\n",
              "         'capable': 1,\n",
              "         'performing': 1,\n",
              "         'tasks': 1,\n",
              "         'learning': 4,\n",
              "         'reasoning': 1,\n",
              "         'problem': 1,\n",
              "         'solving': 1,\n",
              "         'perception': 1,\n",
              "         'language': 1,\n",
              "         'understanding': 1,\n",
              "         '\\n\\n': 6,\n",
              "         'systems': 5,\n",
              "         'classified': 1,\n",
              "         'narrow': 2,\n",
              "         'task': 2,\n",
              "         'specific': 1,\n",
              "         'general': 1,\n",
              "         'perform': 1,\n",
              "         'intellectual': 1,\n",
              "         'examples': 1,\n",
              "         'include': 1,\n",
              "         'virtual': 1,\n",
              "         'assistants': 1,\n",
              "         'siri': 1,\n",
              "         'alexa': 1,\n",
              "         'recommendation': 1,\n",
              "         'netflix': 1,\n",
              "         'autonomous': 1,\n",
              "         'vehicles': 1,\n",
              "         'machine': 2,\n",
              "         'subset': 1,\n",
              "         'enables': 1,\n",
              "         'learn': 1,\n",
              "         'improve': 1,\n",
              "         'experience': 1,\n",
              "         'algorithms': 2,\n",
              "         'analyze': 1,\n",
              "         'data': 2,\n",
              "         'identify': 1,\n",
              "         'patterns': 1,\n",
              "         'decisions': 1,\n",
              "         'deep': 1,\n",
              "         'neural': 1,\n",
              "         'networks': 1,\n",
              "         'layers': 1,\n",
              "         'mimics': 1,\n",
              "         'brain': 1,\n",
              "         'function': 1,\n",
              "         'applications': 1,\n",
              "         'industries': 1,\n",
              "         'healthcare': 1,\n",
              "         'uses': 2,\n",
              "         'predictive': 2,\n",
              "         'analytics': 1,\n",
              "         'medical': 1,\n",
              "         'imaging': 1,\n",
              "         'finance': 1,\n",
              "         'employs': 1,\n",
              "         'fraud': 1,\n",
              "         'detection': 1,\n",
              "         'algorithmic': 1,\n",
              "         'trading': 1,\n",
              "         'manufacturing': 1,\n",
              "         'maintenance': 1,\n",
              "         'quality': 1,\n",
              "         'control': 1,\n",
              "         'poses': 1,\n",
              "         'challenges': 1,\n",
              "         'ethical': 3,\n",
              "         'concerns': 2,\n",
              "         'including': 1,\n",
              "         'job': 1,\n",
              "         'displacement': 1,\n",
              "         'automation': 1,\n",
              "         'biases': 1,\n",
              "         'need': 1,\n",
              "         'transparency': 1,\n",
              "         'decision': 1,\n",
              "         'making': 1,\n",
              "         'ensuring': 1,\n",
              "         'privacy': 1,\n",
              "         'security': 1,\n",
              "         'critical': 1,\n",
              "         'advancing': 1,\n",
              "         'research': 1,\n",
              "         'focuses': 1,\n",
              "         'improving': 1,\n",
              "         'enhancing': 1,\n",
              "         'interaction': 1,\n",
              "         'developing': 1,\n",
              "         'explainable': 1,\n",
              "         'future': 1,\n",
              "         'promises': 1,\n",
              "         'innovations': 1,\n",
              "         'significantly': 1,\n",
              "         'impact': 1,\n",
              "         'society': 1,\n",
              "         'economy': 1,\n",
              "         'development': 1,\n",
              "         'requires': 1,\n",
              "         'collaboration': 1,\n",
              "         'technologists': 1,\n",
              "         'ethicists': 1,\n",
              "         'policymakers': 1,\n",
              "         'public': 1,\n",
              "         'address': 1,\n",
              "         'harness': 1,\n",
              "         'potential': 1,\n",
              "         'societal': 1,\n",
              "         'good': 1,\n",
              "         'balancing': 1,\n",
              "         'innovation': 1,\n",
              "         'considerations': 1,\n",
              "         'developed': 1,\n",
              "         'benefit': 1,\n",
              "         'humanity': 1})"
            ]
          },
          "metadata": {},
          "execution_count": 13
        }
      ]
    },
    {
      "cell_type": "code",
      "source": [
        "from collections import Counter\n",
        "word_freq = Counter(filtered_tokens)\n",
        "print(\"Word Frequencies:\", word_freq.most_common(20))\n"
      ],
      "metadata": {
        "colab": {
          "base_uri": "https://localhost:8080/"
        },
        "id": "GiVCgcujN3_z",
        "outputId": "61dced5e-7b35-4dba-fa42-bc68ea23ea3f"
      },
      "execution_count": null,
      "outputs": [
        {
          "output_type": "stream",
          "name": "stdout",
          "text": [
            "Word Frequencies: [('ai', 17), ('\\n\\n', 6), ('systems', 5), ('human', 4), ('learning', 4), ('ethical', 3), ('intelligence', 2), ('like', 2), ('narrow', 2), ('task', 2), ('machine', 2), ('algorithms', 2), ('data', 2), ('uses', 2), ('predictive', 2), ('concerns', 2), ('artificial', 1), ('refers', 1), ('simulation', 1), ('machines', 1)]\n"
          ]
        }
      ]
    },
    {
      "cell_type": "code",
      "source": [
        "import matplotlib.pyplot as plt\n",
        "\n",
        "# Top 10 word frequencies\n",
        "most_common_words = word_freq.most_common(20)\n",
        "words, frequencies = zip(*most_common_words)\n",
        "\n",
        "plt.figure(figsize=(10, 5))\n",
        "plt.plot(words, frequencies,marker='o')\n",
        "plt.title(\"Top 20 Word Frequencies\")\n",
        "plt.xlabel(\"Words\")\n",
        "plt.ylabel(\"Frequencies\")\n",
        "plt.xticks(rotation=45)\n",
        "plt.show()\n"
      ],
      "metadata": {
        "colab": {
          "base_uri": "https://localhost:8080/",
          "height": 540
        },
        "id": "LyDeb4K6N_Cg",
        "outputId": "bef4945e-3230-47dd-9379-fbc4391d1ff7"
      },
      "execution_count": null,
      "outputs": [
        {
          "output_type": "display_data",
          "data": {
            "text/plain": [
              "<Figure size 1000x500 with 1 Axes>"
            ],
            "image/png": "[encoded data removed]"
          },
          "metadata": {}
        }
      ]
    },
    {
      "cell_type": "code",
      "source": [
        "max_frequency = max(word_freq.values())\n"
      ],
      "metadata": {
        "id": "Ghlz7pwLQ5gN"
      },
      "execution_count": null,
      "outputs": []
    },
    {
      "cell_type": "code",
      "source": [
        "max_frequency"
      ],
      "metadata": {
        "colab": {
          "base_uri": "https://localhost:8080/"
        },
        "id": "911wAO__dlfZ",
        "outputId": "9b6113ff-24d4-49b4-9dbe-a7161f1de2bb"
      },
      "execution_count": null,
      "outputs": [
        {
          "output_type": "execute_result",
          "data": {
            "text/plain": [
              "17"
            ]
          },
          "metadata": {},
          "execution_count": 22
        }
      ]
    },
    {
      "cell_type": "code",
      "source": [
        "for word in word_freq.keys():\n",
        "  word_freq[word] = word_freq[word]/max_frequency"
      ],
      "metadata": {
        "id": "vMSGfykpdopA"
      },
      "execution_count": null,
      "outputs": []
    },
    {
      "cell_type": "code",
      "source": [
        "sentence_tokens = [sent for sent in doc.sents]\n"
      ],
      "metadata": {
        "id": "oVG2ypN15pKK"
      },
      "execution_count": null,
      "outputs": []
    },
    {
      "cell_type": "code",
      "source": [
        "sentence_scores = {}\n",
        "for sent in sentence_tokens:\n",
        "    for word in sent:\n",
        "        if word.text.lower() in word_freq:\n",
        "            if sent not in sentence_scores:\n",
        "                sentence_scores[sent] = word_freq[word.text.lower()]\n",
        "            else:\n",
        "                sentence_scores[sent] += word_freq[word.text.lower()]\n"
      ],
      "metadata": {
        "id": "iPc8fBMQ5v9J"
      },
      "execution_count": null,
      "outputs": []
    },
    {
      "cell_type": "code",
      "source": [
        "from heapq import nlargest\n",
        "\n",
        "select_length = int(len(sentence_tokens) * 0.5)\n",
        "summary_sentences = nlargest(select_length, sentence_scores, key=sentence_scores.get)\n",
        "select_length"
      ],
      "metadata": {
        "colab": {
          "base_uri": "https://localhost:8080/"
        },
        "id": "UxvaIz0seFQT",
        "outputId": "f2eb8a89-c0ce-4bc7-8f90-faea9ba1b366"
      },
      "execution_count": null,
      "outputs": [
        {
          "output_type": "execute_result",
          "data": {
            "text/plain": [
              "6"
            ]
          },
          "metadata": {},
          "execution_count": 31
        }
      ]
    },
    {
      "cell_type": "code",
      "source": [
        "summary = [sent.text for sent in summary_sentences]\n",
        "summary = ' '.join(summary)\n",
        "print(summary)\n"
      ],
      "metadata": {
        "colab": {
          "base_uri": "https://localhost:8080/"
        },
        "id": "CYXLu7Pz5avZ",
        "outputId": "291c795d-d56d-4834-b1cc-4ed06cdd1ece"
      },
      "execution_count": null,
      "outputs": [
        {
          "output_type": "stream",
          "name": "stdout",
          "text": [
            "AI poses challenges and ethical concerns, including job displacement due to automation, biases in AI systems, and the need for transparency in AI decision-making. AI systems are classified into narrow AI, which is task-specific, and general AI, which can perform any intellectual task a human can do. AI has applications across industries: healthcare uses AI for predictive analytics and medical imaging; finance employs it for fraud detection and algorithmic trading; manufacturing uses it for predictive maintenance and quality control.\n",
            "\n",
            " Advancing AI research focuses on improving learning algorithms, enhancing human-machine interaction, and developing more explainable AI systems. Ethical AI development requires collaboration between technologists, ethicists, policymakers, and the public to address concerns and harness AI's potential for societal good. Examples of narrow AI include virtual assistants like Siri and Alexa, recommendation systems used by Netflix, and autonomous vehicles.\n",
            "\n",
            "\n"
          ]
        }
      ]
    }
  ]
}